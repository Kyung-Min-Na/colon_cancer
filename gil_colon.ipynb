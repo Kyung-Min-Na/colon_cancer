{
 "cells": [
  {
   "cell_type": "code",
   "execution_count": null,
   "id": "318417b4-59cb-4ab2-bc8a-fe5622bad773",
   "metadata": {},
   "outputs": [],
   "source": [
    "import pandas as pd\n",
    "from sklearn.model_selection import train_test_split\n",
    "from sklearn.preprocessing import StandardScaler, OneHotEncoder\n",
    "from sklearn.compose import ColumnTransformer\n",
    "from sklearn.pipeline import Pipeline\n",
    "from sklearn.ensemble import RandomForestClassifier\n",
    "from sklearn.metrics import accuracy_score, confusion_matrix, classification_report\n",
    "from sklearn.impute import SimpleImputer\n",
    "\n",
    "# 데이터 로드\n",
    "data = pd.read_csv('colon_cancer_data.csv')\n",
    "\n",
    "# 데이터의 첫 몇 행을 출력하여 확인print(data.head())\n",
    "\n",
    "# 'recurrence'를 목표 변수로 가정하고 나머지는 특징으로 설정\n",
    "X = data.drop('recurrence', axis=1)\n",
    "y = data['recurrence']\n",
    "\n",
    "# 수치형 변수와 범주형 변수 구분\n",
    "numerical_features = X.select_dtypes(include=['int64', 'float64']).columns\n",
    "categorical_features = X.select_dtypes(include=['object']).columns\n",
    "\n",
    "# 수치형 변수를 위한 전처리 파이프라인 (결측값 대체 및 표준화)\n",
    "numerical_pipeline = Pipeline(steps=[\n",
    "    ('imputer', SimpleImputer(strategy='mean')),\n",
    "    ('scaler', StandardScaler())\n",
    "])\n",
    "\n",
    "# 범주형 변수를 위한 전처리 파이프라인 (결측값 대체 및 원-핫 인코딩)\n",
    "categorical_pipeline = Pipeline(steps=[\n",
    "    ('imputer', SimpleImputer(strategy='most_frequent')),\n",
    "    ('onehot', OneHotEncoder(handle_unknown='ignore'))\n",
    "])\n",
    "\n",
    "# 수치형 및 범주형 파이프라인을 결합\n",
    "preprocessor = ColumnTransformer(\n",
    "    transformers=[\n",
    "        ('num', numerical_pipeline, numerical_features),\n",
    "        ('cat', categorical_pipeline, categorical_features)\n",
    "    ])\n",
    "\n",
    "# 전처리와 분류기를 결합한 파이프라인 생성\n",
    "model = Pipeline(steps=[\n",
    "    ('preprocessor', preprocessor),\n",
    "    ('classifier', RandomForestClassifier(random_state=42))\n",
    "])\n",
    "\n",
    "# 데이터를 학습용과 테스트용으로 분할\n",
    "X_train, X_test, y_train, y_test = train_test_split(X, y, test_size=0.2, random_state=42)\n",
    "\n",
    "# 모델 학습\n",
    "model.fit(X_train, y_train)\n",
    "\n",
    "# 예측 수행\n",
    "y_pred = model.predict(X_test)\n",
    "\n",
    "# 모델 평가\n",
    "accuracy = accuracy_score(y_test, y_pred)\n",
    "conf_matrix = confusion_matrix(y_test, y_pred)\n",
    "class_report = classification_report(y_test, y_pred)\n",
    "\n",
    "print(f'정확도: {accuracy}')\n",
    "print('혼동 행렬:')\n",
    "print(conf_matrix)\n",
    "print('분류 보고서:')\n",
    "print(class_report)"
   ]
  },
  {
   "cell_type": "code",
   "execution_count": null,
   "id": "f4ed3197-1746-4ae5-b1d9-fcf818f03a77",
   "metadata": {},
   "outputs": [],
   "source": [
    "import matplotlib.pyplot as plt\n",
    "import seaborn as sns\n",
    "import pandas as pd\n",
    "import numpy as np\n",
    "from sklearn.datasets import load_breast_cancer\n",
    "from sklearn.model_selection import train_test_split\n",
    "from sklearn.preprocessing import StandardScaler, LabelEncoder\n",
    "from sklearn.neighbors import KNeighborsClassifier\n",
    "from sklearn.ensemble import RandomForestClassifier\n",
    "from sklearn.metrics import accuracy_score, confusion_matrix, classification_report\n",
    "\n",
    "import tensorflow as tf\n",
    "from tensorflow import keras"
   ]
  },
  {
   "cell_type": "markdown",
   "id": "7e1a3291-0c09-4605-bf5d-75753fbf78a8",
   "metadata": {},
   "source": [
    "# data(.csv) load"
   ]
  },
  {
   "cell_type": "code",
   "execution_count": null,
   "id": "1882f19d-9b83-4fb3-b3be-ba7c62539f5a",
   "metadata": {},
   "outputs": [],
   "source": [
    "# case1 : sheet 1개일 경우 (1명의 환자의 변수가 sheet하나에 다 들어있음)\n",
    "\n",
    "df = pd.read_csv(\"C:/Users/nkm11/Desktop/AI_class/Gil/K-CURE대장암_샘플.csv\", index_col=0) # encoding 오류시, csv열어보셈. \n",
    "# df = pd.read_csv(\"./경로명작성/파일명.csv\", index_col=0)"
   ]
  },
  {
   "cell_type": "code",
   "execution_count": null,
   "id": "ffc1cbcb-7700-4296-8127-3fe34e47d987",
   "metadata": {},
   "outputs": [],
   "source": [
    "# case2 : sheet 2개 이상일 경우\n"
   ]
  },
  {
   "cell_type": "code",
   "execution_count": null,
   "id": "67b7e730-8bc2-40d5-aea1-53ace4d1e640",
   "metadata": {},
   "outputs": [],
   "source": [
    "# case3 : 그럴 일은 없겠으나, txt에 작성된 경우\n",
    "file_path = \"./파일명.txt\"\n",
    "column_names = [\"변수1 \", \"변수2 \"]          \n",
    "df = pd.read_csv(file_path, header=None, names=column_names, delimiter='\\s+')"
   ]
  },
  {
   "cell_type": "code",
   "execution_count": null,
   "id": "c2169501-6dac-4f37-b813-72571e45b7d7",
   "metadata": {},
   "outputs": [],
   "source": [
    "# 확인\n",
    "df\n",
    "#print(df.head)"
   ]
  },
  {
   "cell_type": "markdown",
   "id": "72f6657f-7ba4-4d4c-b3e5-c20ec4313f6a",
   "metadata": {},
   "source": [
    "# data info 확인"
   ]
  },
  {
   "cell_type": "code",
   "execution_count": null,
   "id": "2020591f-dddd-4fc4-9f64-7eda5c6982e2",
   "metadata": {},
   "outputs": [],
   "source": [
    "# 컬렴명 확인\n",
    "df.columns"
   ]
  },
  {
   "cell_type": "code",
   "execution_count": null,
   "id": "7b418ce6-ccb7-400f-a90b-fa43e4acda1e",
   "metadata": {},
   "outputs": [],
   "source": [
    "# 박스 플롯 그리기\n",
    "plt.figure(figsize=(20, 16))\n",
    "for i, column in enumerate(df.columns):\n",
    "    plt.subplot(3, 4, i+1)\n",
    "    plt.boxplot(df[column])\n",
    "    plt.title(column)\n",
    "\n",
    "plt.tight_layout()\n",
    "plt.show()"
   ]
  },
  {
   "cell_type": "code",
   "execution_count": null,
   "id": "0fcda012-0eb0-48b7-b46e-893dbca8fa05",
   "metadata": {},
   "outputs": [],
   "source": [
    "# 레이블 갯수 확인 (그래프)\n",
    "sns.countplot(data = df, x=\"label\")\n",
    "plt.xlabel(\"Cancer or Not\")\n",
    "plt.ylabel(\"Count\")\n",
    "plt.title(\"Label\")"
   ]
  },
  {
   "cell_type": "code",
   "execution_count": null,
   "id": "3cae0e66-b9b5-4211-b9cc-288ddd1b9bff",
   "metadata": {},
   "outputs": [],
   "source": [
    "# 레이블 갯수 확인 (숫자)\n",
    "df['변수명'].value_counts()"
   ]
  },
  {
   "cell_type": "code",
   "execution_count": null,
   "id": "87426f61-c66c-4bd1-b508-b5ac6a398dcd",
   "metadata": {},
   "outputs": [],
   "source": [
    "#결측치 확인\n",
    "df.isnull.sum()"
   ]
  },
  {
   "cell_type": "code",
   "execution_count": null,
   "id": "6596cec9-89db-4782-813e-013a245a066f",
   "metadata": {},
   "outputs": [],
   "source": [
    "# 결측치 제거\n",
    "df = df.dropna()\n",
    "df.isnull().sum()"
   ]
  },
  {
   "cell_type": "code",
   "execution_count": null,
   "id": "cc34afb9-2b6e-4c5e-8584-6cb0c8146287",
   "metadata": {},
   "outputs": [],
   "source": []
  },
  {
   "cell_type": "code",
   "execution_count": null,
   "id": "763d946e-6d41-424b-b444-332acd84193d",
   "metadata": {},
   "outputs": [],
   "source": []
  },
  {
   "cell_type": "markdown",
   "id": "2b25644b-dab8-4255-acfe-f7eb3adf55cc",
   "metadata": {},
   "source": [
    "# standardscaler"
   ]
  },
  {
   "cell_type": "code",
   "execution_count": null,
   "id": "b89c268d-26be-4e56-8b7f-d654aea060c6",
   "metadata": {},
   "outputs": [],
   "source": [
    "# Standardization(표준화)\n",
    "scaler = StandardScaler()\n",
    "scaled_data_standard = scaler.fit_transform(df.drop('변수', axis=1))  # rings 열 제외하고 표준화\n",
    "scaled_df_standard = pd.DataFrame(scaled_data_standard, columns=df.columns[:-1])  # 데이터프레임으로 변환\n",
    "scaled_df_standard"
   ]
  },
  {
   "cell_type": "code",
   "execution_count": null,
   "id": "94d039e0-1a50-4971-90a6-891ed0e35049",
   "metadata": {},
   "outputs": [],
   "source": [
    "x=scaled_df_standard\n",
    "\n",
    "X = x.values\n",
    "X"
   ]
  },
  {
   "cell_type": "code",
   "execution_count": null,
   "id": "09090bca-453e-4bd6-9144-a5e81409a80a",
   "metadata": {},
   "outputs": [],
   "source": []
  },
  {
   "cell_type": "markdown",
   "id": "2d972cf2-8244-40d0-b18a-9126b31182fe",
   "metadata": {},
   "source": [
    "# Prediction model"
   ]
  },
  {
   "cell_type": "code",
   "execution_count": null,
   "id": "0cf857c9-5a93-4a24-80f1-6f6d5742a3dc",
   "metadata": {},
   "outputs": [],
   "source": []
  },
  {
   "cell_type": "code",
   "execution_count": null,
   "id": "29c79b5f-770b-43a3-96e7-dac85e422078",
   "metadata": {},
   "outputs": [],
   "source": [
    "import tensorflow as tf\n",
    "\n",
    "from tensorflow import keras\n",
    "from keras.layers import Dense\n",
    "from keras.models import Sequential\n",
    "from keras.optimizers import SGD,Adam\n",
    "from tensorflow.keras.layers import Input\n",
    "from tensorflow.keras.layers import Conv1D\n",
    "from keras.layers import Dense, Flatten, Dropout\n",
    "from sklearn.model_selection import train_test_split"
   ]
  },
  {
   "cell_type": "code",
   "execution_count": null,
   "id": "27f7cacc-e7d1-4ae5-b3a7-8c81dd977bed",
   "metadata": {},
   "outputs": [],
   "source": [
    "# 데이터를 학습용과 테스트용으로 분할\n",
    "X_train, X_test, y_train, y_test = train_test_split(X, y, test_size=0.2, random_state=42)"
   ]
  },
  {
   "cell_type": "code",
   "execution_count": null,
   "id": "dff7382c-cea1-46eb-a940-e38df6dcd136",
   "metadata": {},
   "outputs": [],
   "source": [
    "from sklearn.linear_model import LogisticRegression\n",
    "from sklearn.svm import SVC\n",
    "from sklearn.neural_network import MLPClassifier\n",
    "from sklearn.tree import DecisionTreeClassifier\n",
    "from sklearn.metrics import accuracy_score\n",
    "from sklearn.metrics import confusion_matrix"
   ]
  },
  {
   "cell_type": "code",
   "execution_count": null,
   "id": "7a296c2d-24e4-4d12-9871-4651b6c2ae73",
   "metadata": {},
   "outputs": [],
   "source": [
    "from sklearn.svm import SVC\n",
    "\n",
    "clf_svm = SVC(random_state=0)\n",
    "clf_svm.fit(X_train, y_train)\n",
    "\n",
    "pred_svm = clf_svm.predict(X_test)\n",
    "\n",
    "print(\"\\n--- SVM Classifier ---\")\n",
    "print(accuracy_score(y_test, pred_svm))\n",
    "print(confusion_matrix(y_test, pred_svm))"
   ]
  },
  {
   "cell_type": "code",
   "execution_count": null,
   "id": "9edbc718-319c-4636-9319-93433f8efddf",
   "metadata": {},
   "outputs": [],
   "source": [
    "# Build a logistic regression classifier and predict\n",
    "\n",
    "clf_lr = LogisticRegression(random_state=0)\n",
    "clf_lr.fit(X_train, y_train)\n",
    "\n",
    "pred_lr = clf_lr.predict(X_test)\n",
    "\n",
    "print (\"\\n--- Logistic Regression Classifier ---\")\n",
    "print (accuracy_score(y_test, pred_lr))\n",
    "print (confusion_matrix(y_test, pred_lr))"
   ]
  },
  {
   "cell_type": "code",
   "execution_count": null,
   "id": "a4541d25-3180-42f7-b349-284cdad4fbb7",
   "metadata": {},
   "outputs": [],
   "source": [
    "# Build a decision tree classifier and predict\n",
    "\n",
    "clf_dt = DecisionTreeClassifier(random_state=0)\n",
    "clf_dt.fit(X_train, y_train)\n",
    "\n",
    "pred_dt = clf_dt.predict(X_test)\n",
    "\n",
    "print (\"\\n--- Decision Tree Classifier ---\")\n",
    "print (accuracy_score(y_test, pred_dt))\n",
    "print (confusion_matrix(y_test, pred_dt))"
   ]
  },
  {
   "cell_type": "code",
   "execution_count": null,
   "id": "56fb4a40-03e6-4356-b8b5-5f1bdd2ed7db",
   "metadata": {},
   "outputs": [],
   "source": [
    "from sklearn.ensemble import RandomForestClassifier\n",
    "from sklearn.metrics import accuracy_score\n",
    "import pandas as pd\n",
    "import warnings\n",
    "warnings.filterwarnings('ignore')\n",
    "\n",
    "print (\"\\n--- Radom Forest ---\")\n",
    "rf_clf = RandomForestClassifier(random_state=0)\n",
    "rf_clf.fit(X_train, y_train)\n",
    "pred = rf_clf.predict(X_test)\n",
    "print(accuracy_score(y_test,pred))\n",
    "print (confusion_matrix(y_test, pred))"
   ]
  },
  {
   "cell_type": "code",
   "execution_count": null,
   "id": "9d3a1550-4a71-4afe-8d5a-7928c0810099",
   "metadata": {},
   "outputs": [],
   "source": [
    "clf_nn = MLPClassifier(random_state=0)\n",
    "clf_nn.fit(X_train, y_train)\n",
    "\n",
    "pred_nn = clf_nn.predict(X_test)\n",
    "\n",
    "print (\"\\n--- Neural Network Classifier ---\")\n",
    "print (accuracy_score(y_test, pred_nn))\n",
    "print (confusion_matrix(y_test, pred_nn))"
   ]
  },
  {
   "cell_type": "code",
   "execution_count": null,
   "id": "ad980490-247a-4a18-a3ee-2045e9258b84",
   "metadata": {},
   "outputs": [],
   "source": []
  }
 ],
 "metadata": {
  "kernelspec": {
   "display_name": "dr",
   "language": "python",
   "name": "dr"
  },
  "language_info": {
   "codemirror_mode": {
    "name": "ipython",
    "version": 3
   },
   "file_extension": ".py",
   "mimetype": "text/x-python",
   "name": "python",
   "nbconvert_exporter": "python",
   "pygments_lexer": "ipython3",
   "version": "3.9.18"
  }
 },
 "nbformat": 4,
 "nbformat_minor": 5
}
